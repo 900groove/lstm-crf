{
 "cells": [
  {
   "cell_type": "code",
   "execution_count": 19,
   "metadata": {},
   "outputs": [],
   "source": [
    "import MeCab\n",
    "import pickle\n",
    "import pandas as pd"
   ]
  },
  {
   "cell_type": "code",
   "execution_count": 2,
   "metadata": {},
   "outputs": [],
   "source": [
    "test_text = \"\"\"\n",
    "    トヨタ自動車（トヨタじどうしゃ、英: Toyota Motor Corporation）は、\n",
    "    日本の大手自動車メーカーである。通称「トヨタ」、英語表記「TOYOTA」、トヨタグループ内では\n",
    "    「TMC」と略称される。豊田自動織機を源流とするトヨタグループの中核企業で、ダイハツ工業と\n",
    "    日野自動車の親会社、SUBARUの筆頭株主である。TOPIX Core30の構成銘柄の一つ。\n",
    "\"\"\""
   ]
  },
  {
   "cell_type": "code",
   "execution_count": 7,
   "metadata": {},
   "outputs": [],
   "source": [
    "def parse_text(text):\n",
    "    tagger = MeCab.Tagger(' -d /usr/local/lib/mecab/dic/mecab-ipadic-neologd')\n",
    "    tagger.parse(\"\")\n",
    "    node = tagger.parseToNode(text)\n",
    "    result = []\n",
    "    while node:\n",
    "        target = node.surface\n",
    "        hinshi3 = node.feature.split(',')[2]\n",
    "        result.append((target, hinshi3))\n",
    "        node = node.next    \n",
    "    return result[1: -1]  # BOSとEOSを除外"
   ]
  },
  {
   "cell_type": "code",
   "execution_count": 20,
   "metadata": {},
   "outputs": [],
   "source": [
    "df = pd.read_csv('../data/processed.csv')"
   ]
  },
  {
   "cell_type": "code",
   "execution_count": 30,
   "metadata": {},
   "outputs": [],
   "source": [
    "result = []\n",
    "for text in df.text:\n",
    "    result.append(parse_text(text))"
   ]
  },
  {
   "cell_type": "code",
   "execution_count": 61,
   "metadata": {},
   "outputs": [],
   "source": [
    "data_pair = {}\n",
    "featuer = []\n",
    "target = []\n",
    "for sentence in result:\n",
    "    _featuer = []\n",
    "    _target = []\n",
    "    for pair in sentence:\n",
    "\n",
    "        for s in list(pair[0]):\n",
    "            _featuer.append(s)\n",
    "            _target.append(pair[1])\n",
    "    featuer.append(_featuer)\n",
    "    target.append(_target)\n",
    "        \n",
    "data_pair['feature'] = featuer\n",
    "data_pair['target'] = target"
   ]
  },
  {
   "cell_type": "code",
   "execution_count": 55,
   "metadata": {},
   "outputs": [],
   "source": [
    "test = []\n",
    "for t in target:\n",
    "    test += t"
   ]
  },
  {
   "cell_type": "code",
   "execution_count": 57,
   "metadata": {},
   "outputs": [],
   "source": [
    "test2 = set(test)"
   ]
  },
  {
   "cell_type": "code",
   "execution_count": 58,
   "metadata": {},
   "outputs": [
    {
     "data": {
      "text/plain": [
       "{'*',\n",
       " 'サ変接続',\n",
       " '一般',\n",
       " '人名',\n",
       " '副詞可能',\n",
       " '助動詞語幹',\n",
       " '助数詞',\n",
       " '地域',\n",
       " '引用',\n",
       " '形容動詞語幹',\n",
       " '特殊',\n",
       " '組織',\n",
       " '連語'}"
      ]
     },
     "execution_count": 58,
     "metadata": {},
     "output_type": "execute_result"
    }
   ],
   "source": [
    "test2"
   ]
  },
  {
   "cell_type": "code",
   "execution_count": 62,
   "metadata": {},
   "outputs": [],
   "source": [
    "with open('../data/train_data2.pickle', mode='wb') as f:\n",
    "    pickle.dump(data_pair, f)"
   ]
  },
  {
   "cell_type": "code",
   "execution_count": 63,
   "metadata": {},
   "outputs": [
    {
     "data": {
      "text/plain": [
       "dict_keys(['feature', 'target'])"
      ]
     },
     "execution_count": 63,
     "metadata": {},
     "output_type": "execute_result"
    }
   ],
   "source": [
    "data_pair.keys()"
   ]
  },
  {
   "cell_type": "code",
   "execution_count": null,
   "metadata": {},
   "outputs": [],
   "source": []
  }
 ],
 "metadata": {
  "kernelspec": {
   "display_name": "Python 3",
   "language": "python",
   "name": "python3"
  },
  "language_info": {
   "codemirror_mode": {
    "name": "ipython",
    "version": 3
   },
   "file_extension": ".py",
   "mimetype": "text/x-python",
   "name": "python",
   "nbconvert_exporter": "python",
   "pygments_lexer": "ipython3",
   "version": "3.6.4"
  }
 },
 "nbformat": 4,
 "nbformat_minor": 2
}
