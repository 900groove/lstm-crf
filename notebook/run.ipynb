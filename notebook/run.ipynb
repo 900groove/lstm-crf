{
 "cells": [
  {
   "cell_type": "code",
   "execution_count": 8,
   "metadata": {},
   "outputs": [],
   "source": [
    "import os\n",
    "import sys\n",
    "import pickle\n",
    "import torch\n",
    "sys.path.append(os.pardir)"
   ]
  },
  {
   "cell_type": "code",
   "execution_count": 9,
   "metadata": {},
   "outputs": [],
   "source": [
    "with open('../model/trained_model.pickle', mode='rb') as f:\n",
    "    model = pickle.load(f)\n",
    "    model.eval()\n",
    "\n",
    "with open('../model/word_to_ix.pickle', mode='rb') as f:\n",
    "    word_to_ix = pickle.load(f)"
   ]
  },
  {
   "cell_type": "code",
   "execution_count": 10,
   "metadata": {},
   "outputs": [],
   "source": [
    "def text_to_id(text):\n",
    "    text = text.replace('。', ' ')\n",
    "    text = [word_to_ix[s] for s in list(text)]\n",
    "    return torch.tensor(text, dtype=torch.long)"
   ]
  },
  {
   "cell_type": "code",
   "execution_count": 11,
   "metadata": {},
   "outputs": [],
   "source": [
    "new_text = \"ギャルの特性を活かしたマーケティングを行う会社「シホ有限会社G-Revo」を2005年4月28日に設立した\""
   ]
  },
  {
   "cell_type": "code",
   "execution_count": 13,
   "metadata": {},
   "outputs": [
    {
     "name": "stdout",
     "output_type": "stream",
     "text": [
      "ギ: 1\n",
      "ャ: 0\n",
      "ル: 0\n",
      "の: 0\n",
      "特: 0\n",
      "性: 0\n",
      "を: 0\n",
      "活: 0\n",
      "か: 0\n",
      "し: 0\n",
      "た: 0\n",
      "マ: 0\n",
      "ー: 0\n",
      "ケ: 1\n",
      "テ: 0\n",
      "ィ: 1\n",
      "ン: 0\n",
      "グ: 0\n",
      "を: 1\n",
      "行: 0\n",
      "う: 0\n",
      "会: 0\n",
      "社: 0\n",
      "「: 0\n",
      "シ: 1\n",
      "ホ: 1\n",
      "有: 0\n",
      "限: 1\n",
      "会: 0\n",
      "社: 0\n",
      "G: 1\n",
      "-: 0\n",
      "R: 1\n",
      "e: 0\n",
      "v: 1\n",
      "o: 0\n",
      "」: 0\n",
      "を: 0\n",
      "2: 0\n",
      "0: 0\n",
      "0: 0\n",
      "5: 0\n",
      "年: 0\n",
      "4: 0\n",
      "月: 0\n",
      "2: 0\n",
      "8: 0\n",
      "日: 1\n",
      "に: 1\n",
      "設: 0\n",
      "立: 0\n",
      "し: 0\n",
      "た: 0\n"
     ]
    }
   ],
   "source": [
    "result = model.forward(text_to_id(new_text))\n",
    "for text, label in zip(list(new_text), result[1]):\n",
    "    print(f'{text}: {label}')"
   ]
  },
  {
   "cell_type": "code",
   "execution_count": null,
   "metadata": {},
   "outputs": [],
   "source": []
  }
 ],
 "metadata": {
  "kernelspec": {
   "display_name": "Python 3",
   "language": "python",
   "name": "python3"
  },
  "language_info": {
   "codemirror_mode": {
    "name": "ipython",
    "version": 3
   },
   "file_extension": ".py",
   "mimetype": "text/x-python",
   "name": "python",
   "nbconvert_exporter": "python",
   "pygments_lexer": "ipython3",
   "version": "3.6.4"
  }
 },
 "nbformat": 4,
 "nbformat_minor": 2
}
